{
 "cells": [
  {
   "cell_type": "markdown",
   "metadata": {},
   "source": [
    "most_nuc():找最多RNA序列，输出[[最多的几个nuc],{记录所有nuc个数的字典}]就是[[列表],dic]\n",
    "list(most_nuc(se)[1].keys()):所有的nuc的名字\n",
    "most_nuc(se)[1].values()：所有nuc对应的频率\n",
    "trans():nuc转换ami\n",
    "most_ami():[最多的几个nuc]的转换（trans()）\n",
    "all_ami():dic的key值(是nuc)转换成ami\n",
    "\n",
    "思路：\n",
    "task1:\n",
    "AUG起始位置\n",
    "多个相同频率的nuc\n",
    "\n",
    "\n",
    "task3:\n",
    "step n:plt.bar(most_ami(se),most_nuc(se)[1].values())转为plt.bar(all_ami(list(most_nuc(se)[1].keys())),most_nuc(se)[1].values())"
   ]
  },
  {
   "cell_type": "markdown",
   "metadata": {},
   "source": [
    "Task1"
   ]
  },
  {
   "cell_type": "code",
   "execution_count": 54,
   "metadata": {},
   "outputs": [
    {
     "name": "stdout",
     "output_type": "stream",
     "text": [
      "(['AAT', 'AAA', 'CTT'], {'AUG': 1, 'ATG': 2, 'CGA': 1, 'AGC': 1, 'GGT': 2, 'AAT': 6, 'AGT': 3, 'GGC': 4, 'TGT': 2, 'AAC': 1, 'CAT': 4, 'TTT': 5, 'CTA': 1, 'GTC': 1, 'CTC': 3, 'CGT': 2, 'AAA': 6, 'GTA': 2, 'GTT': 1, 'ACT': 2, 'TGC': 2, 'CAC': 5, 'GCC': 5, 'ATA': 4, 'GTG': 2, 'CGG': 4, 'ACA': 3, 'ACG': 3, 'TAT': 3, 'TCC': 3, 'TTG': 1, 'AAG': 3, 'CCA': 2, 'CCC': 4, 'CTT': 6, 'GCG': 3, 'GAC': 2, 'CCT': 2, 'CAA': 2, 'ATT': 2, 'TCT': 5, 'CCG': 2, 'GCT': 1, 'TCG': 1, 'TAC': 1, 'TGG': 1, 'CGC': 1, 'AGG': 1, 'GGG': 2, 'AGA': 1, 'ACC': 2, 'CAG': 2, 'GAG': 1, 'ATC': 2, 'TCA': 1, 'GAA': 2, 'TAA': 1})\n"
     ]
    }
   ],
   "source": [
    "def most_nuc(a):#what if it has the same number/has two AUG:start\n",
    "    dic={}\n",
    "    start=[]#\n",
    "    for i in range(len(a)-2):\n",
    "        if a[i:i+3]==\"AUG\":\n",
    "            start.append(i)#\n",
    "    if start==[]:#\n",
    "        return \"NotFound1\"\n",
    "    j=0#记录前一个密码子结束的地点，如果它的位置在这个开始密码子后面或者两个A重合，这个密码子不算(除了i==0的情况)\n",
    "    for k in range(len(start)):#\n",
    "        i=start[k]#取每一个密码子开始位置 \n",
    "        if j>=i and i!=0:\n",
    "            continue\n",
    "        while a[i:i+3] not in [\"UAA\",\"UAG\",\"UGA\"] and i+3<=len(a):\n",
    "            if a[i: i+3] in dic:\n",
    "                dic[a[i:i+3]]+=1\n",
    "            else:\n",
    "                dic[a[i:i+3]]=1\n",
    "            i+=3\n",
    "        j=i+3\n",
    "    if dic=={}:\n",
    "        return \"NotFound2\"\n",
    "    m=max(dic.values())#可以先找出字典中的最大值，再一次性找出所有值等于最大值的键，这样代码逻辑更清晰\n",
    "    q=[key for key,value in dic.items() if value==m]\n",
    "    return q,dic\n",
    "se=\"AUGATGCGAAGCGGTAATAGTGGCAGTTGTAACCATTTTCTAGTCTTTCTCCGTAAAGTAGTTACTTGCCACAATGCCGCCATAGTGCGGAAAACAACGAAATATAATTCCTTGAAGCACAAAACGCCACCCCTTCCCCTTGCCCTTGCCCTTGCGGACGCCCTTTCCCCTCAAAATTTTTTTCATATTACGTCTCCGGCTTCGCTCTCTTACTCTTGGCGCCGGGCGGACCCCGGCAGGAAGGGGAGAACCCAGCCCCTTCCTACTCAAGGCTCTGCGCGGCGTTTTCTCCACACCCCACAGGGCGGGGTAGAGCCGTGCCGGGTGATACACATCATCACATCCTATATGAAATCTATATCATATCACATTGGTATACATAGTACAAAGGAAGAAAAAAATTGTAATCATTAA\"\n",
    "print(most_nuc(se))"
   ]
  },
  {
   "cell_type": "markdown",
   "metadata": {},
   "source": [
    "task2"
   ]
  },
  {
   "cell_type": "markdown",
   "metadata": {},
   "source": []
  },
  {
   "cell_type": "code",
   "execution_count": 55,
   "metadata": {},
   "outputs": [
    {
     "name": "stdout",
     "output_type": "stream",
     "text": [
      "['Error', 'Lys', 'Error']\n"
     ]
    }
   ],
   "source": [
    "def trans(a):\n",
    "     codon_table={'AUG': 'Met','CCG': 'Pro','UUU': 'Phe', 'UUC': 'Phe','UUA': 'Leu', 'UUG': 'Leu', 'CUU': 'Leu', 'CUC': 'Leu', 'CUA': 'Leu', 'CUG': 'Leu','AUU': 'Ile', \n",
    "                   'AUC': 'Ile', 'AUA': 'Ile', 'GUU': 'Val', 'GUC': 'Val', 'GUA': 'Val', 'GUG': 'Val','UCU': 'Ser', 'UCC': 'Ser', 'UCA': 'Ser', 'UCG': 'Ser','CCU': 'Pro', \n",
    "                   'CCC': 'Pro', 'CCA': 'Pro','ACU': 'Thr', 'ACC': 'Thr', 'ACA': 'Thr', 'ACG': 'Thr','GCU': 'Ala', 'GCC': 'Ala', 'GCA': 'Ala', 'GCG': 'Ala','UAU': 'Tyr', \n",
    "                   'UAC': 'Tyr','CAU': 'His', 'CAC': 'His', 'CAA': 'Gln', 'CAG': 'Gln','AAU': 'Asn', 'AAC': 'Asn','AAA': 'Lys', 'AAG': 'Lys', 'GAU': 'Asp', 'GAC': 'Asp',\n",
    "                   'GAA': 'Glu', 'GAG': 'Glu','UGU': 'Cys', 'UGC': 'Cys', 'UGG': 'Trp', 'CGU': 'Arg', 'CGC': 'Arg', 'CGA': 'Arg', 'CGG': 'Arg', 'AGA': 'Arg', 'AGG': 'Arg',\n",
    "                   'GGU': 'Gly', 'GGC': 'Gly', 'GGA': 'Gly', 'GGG': 'Gly'}\n",
    "     if a not in codon_table.keys():\n",
    "         return \"Error\"\n",
    "     return codon_table[a]\n",
    "def most_ami(a):\n",
    "    q=most_nuc(a)[0]\n",
    "    ami=[]\n",
    "    for i in range(len(q)):\n",
    "        ami.append(trans(q[i]))\n",
    "    return ami\n",
    "se=\"AUGATGCGAAGCGGTAATAGTGGCAGTTGTAACCATTTTCTAGTCTTTCTCCGTAAAGTAGTTACTTGCCACAATGCCGCCATAGTGCGGAAAACAACGAAATATAATTCCTTGAAGCACAAAACGCCACCCCTTCCCCTTGCCCTTGCCCTTGCGGACGCCCTTTCCCCTCAAAATTTTTTTCATATTACGTCTCCGGCTTCGCTCTCTTACTCTTGGCGCCGGGCGGACCCCGGCAGGAAGGGGAGAACCCAGCCCCTTCCTACTCAAGGCTCTGCGCGGCGTTTTCTCCACACCCCACAGGGCGGGGTAGAGCCGTGCCGGGTGATACACATCATCACATCCTATATGAAATCTATATCATATCACATTGGTATACATAGTACAAAGGAAGAAAAAAATTGTAATCATTAA\"\n",
    "print(most_ami(se))"
   ]
  },
  {
   "cell_type": "markdown",
   "metadata": {},
   "source": [
    "Task3"
   ]
  },
  {
   "cell_type": "code",
   "execution_count": 56,
   "metadata": {},
   "outputs": [
    {
     "name": "stdout",
     "output_type": "stream",
     "text": [
      "dict_values([1, 2, 1, 1, 2, 6, 3, 4, 2, 1, 4, 5, 1, 1, 3, 2, 6, 2, 1, 2, 2, 5, 5, 4, 2, 4, 3, 3, 3, 3, 1, 3, 2, 4, 6, 3, 2, 2, 2, 2, 5, 2, 1, 1, 1, 1, 1, 1, 2, 1, 2, 2, 1, 2, 1, 2, 1])\n"
     ]
    }
   ],
   "source": [
    "print(most_nuc(se)[1].values())#dic的值#most_nuc(se)[1]是那个字典"
   ]
  },
  {
   "cell_type": "code",
   "execution_count": 57,
   "metadata": {},
   "outputs": [
    {
     "data": {
      "image/png": "[encoded data removed]",
      "text/plain": [
       "<Figure size 640x480 with 1 Axes>"
      ]
     },
     "metadata": {},
     "output_type": "display_data"
    },
    {
     "data": {
      "text/plain": [
       "<Figure size 1000x600 with 0 Axes>"
      ]
     },
     "metadata": {},
     "output_type": "display_data"
    }
   ],
   "source": [
    "def all_ami(a):\n",
    "    ami=[]\n",
    "    for i in range(len(a)):#len(most_nuc(se)[1])==len(a)\n",
    "        ami.append(trans(a[i]))\n",
    "    return ami\n",
    "import matplotlib.pyplot as plt\n",
    "\n",
    "se=\"AUGATGCGAAGCGGTAATAGTGGCAGTTGTAACCATTTTCTAGTCTTTCTCCGTAAAGTAGTTACTTGCCACAATGCCGCCATAGTGCGGAAAACAACGAAATATAATTCCTTGAAGCACAAAACGCCACCCCTTCCCCTTGCCCTTGCCCTTGCGGACGCCCTTTCCCCTCAAAATTTTTTTCATATTACGTCTCCGGCTTCGCTCTCTTACTCTTGGCGCCGGGCGGACCCCGGCAGGAAGGGGAGAACCCAGCCCCTTCCTACTCAAGGCTCTGCGCGGCGTTTTCTCCACACCCCACAGGGCGGGGTAGAGCCGTGCCGGGTGATACACATCATCACATCCTATATGAAATCTATATCATATCACATTGGTATACATAGTACAAAGGAAGAAAAAAATTGTAATCATTAA\"\n",
    "plt.title('Amino Acid Frequency Distribution')\n",
    "plt.xlabel('Amino Acid')\n",
    "plt.ylabel('Frequency')\n",
    "plt.bar(all_ami(list(most_nuc(se)[1].keys())),most_nuc(se)[1].values())\n",
    "plt.tight_layout()\n",
    "plt.figure(figsize=(10,6))\n",
    "plt.show()"
   ]
  },
  {
   "cell_type": "markdown",
   "metadata": {},
   "source": [
    "随机突变\n",
    "带电荷不带电荷统计\n",
    "\n",
    "Marking criteria\n",
    "学姐说：最好是可以展示出你们小组独有的一些想法和特色，会比较受到老师的欣赏。\n",
    "\n",
    "task的code不要重复体现teamwork\n",
    "task 4要有bio significance\n",
    "我们去问点想法他怎么看\n",
    "基因突变预测疾病风险\n",
    "\n",
    "展示代码片段和python可视化\n",
    "\n",
    "visual aids for figures/poster\n"
   ]
  }
 ],
 "metadata": {
  "kernelspec": {
   "display_name": "Python 3",
   "language": "python",
   "name": "python3"
  },
  "language_info": {
   "codemirror_mode": {
    "name": "ipython",
    "version": 3
   },
   "file_extension": ".py",
   "mimetype": "text/x-python",
   "name": "python",
   "nbconvert_exporter": "python",
   "pygments_lexer": "ipython3",
   "version": "3.11.9"
  }
 },
 "nbformat": 4,
 "nbformat_minor": 2
}
