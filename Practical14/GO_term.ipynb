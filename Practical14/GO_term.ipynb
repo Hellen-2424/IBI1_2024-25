{
 "cells": [
  {
   "cell_type": "markdown",
   "metadata": {},
   "source": [
    "SAX is faster"
   ]
  },
  {
   "cell_type": "markdown",
   "metadata": {},
   "source": [
    "DOM"
   ]
  },
  {
   "cell_type": "code",
   "execution_count": 13,
   "metadata": {},
   "outputs": [],
   "source": [
    "import xml.etree.ElementTree as ET\n",
    "\n",
    "dom=ET.parse('D:\\\\浙大海宁学习大一\\\\IBI1\\\\IBI1_2024-25\\\\IBI1_2024-25\\\\Practical14\\\\go_obo.xml')\n",
    "dom=dom.getroot()\n",
    "#go through(traverse) child element\n",
    "for elem in dom:\n",
    "    if elem.tag==\"term\":\n",
    "        print(elem.tag())\n",
    "    break"
   ]
  },
  {
   "cell_type": "code",
   "execution_count": 14,
   "metadata": {},
   "outputs": [
    {
     "name": "stdout",
     "output_type": "stream",
     "text": [
      "=== DOM Parser Results ===\n",
      "Ontology: Molecular_function\n",
      "  Term with most 'is_a': biotin binding\n",
      "  Number of 'is_a': 8\n",
      "\n",
      "Ontology: Biological_process\n",
      "  Term with most 'is_a': biotin catabolic process\n",
      "  Number of 'is_a': 10\n",
      "\n",
      "Ontology: Cellular_component\n",
      "  Term with most 'is_a': high-affinity iron permease complex\n",
      "  Number of 'is_a': 5\n",
      "\n",
      "DOM parsing time: 12.8001 seconds\n",
      "\n"
     ]
    }
   ],
   "source": [
    "import xml.dom.minidom\n",
    "from datetime import datetime\n",
    "from collections import defaultdict\n",
    "\n",
    "# Initialize result storage\n",
    "max_info_dom = defaultdict(lambda: {'term': '', 'count': 0})\n",
    "start_time_dom = datetime.now()  # Start time recording\n",
    "\n",
    "# Parse XML file\n",
    "dom_tree = xml.dom.minidom.parse(\"D:\\\\浙大海宁学习大一\\\\IBI1\\\\IBI1_2024-25\\\\IBI1_2024-25\\\\Practical14\\\\go_obo.xml\")  # Replace with actual file path\n",
    "terms = dom_tree.getElementsByTagName('term')\n",
    "\n",
    "for term in terms:\n",
    "    # Extract namespace\n",
    "    namespace_elem = term.getElementsByTagName('namespace')[0]\n",
    "    namespace = namespace_elem.firstChild.data.strip()\n",
    "    \n",
    "    # Filter target ontologies\n",
    "    if namespace not in ['molecular_function', 'biological_process', 'cellular_component']:\n",
    "        continue\n",
    "    \n",
    "    # Extract term name\n",
    "    name_elem = term.getElementsByTagName('name')[0]\n",
    "    term_name = name_elem.firstChild.data.strip()\n",
    "    \n",
    "    # Count \"is_a\" elements\n",
    "    is_a_count = len(term.getElementsByTagName('is_a'))\n",
    "    \n",
    "    # Update maximum count\n",
    "    if is_a_count > max_info_dom[namespace]['count']:\n",
    "        max_info_dom[namespace] = {'term': term_name, 'count': is_a_count}\n",
    "\n",
    "# Calculate elapsed time\n",
    "dom_elapsed = (datetime.now() - start_time_dom).total_seconds()\n",
    "\n",
    "# Output DOM results\n",
    "print(\"=== DOM Parser Results ===\")\n",
    "for ns in ['molecular_function', 'biological_process', 'cellular_component']:\n",
    "    data = max_info_dom[ns]\n",
    "    print(f\"Ontology: {ns.capitalize()}\")\n",
    "    print(f\"  Term with most 'is_a': {data['term']}\")\n",
    "    print(f\"  Number of 'is_a': {data['count']}\\n\")\n",
    "print(f\"DOM parsing time: {dom_elapsed:.4f} seconds\\n\")"
   ]
  },
  {
   "cell_type": "markdown",
   "metadata": {},
   "source": [
    "SAX"
   ]
  },
  {
   "cell_type": "code",
   "execution_count": 16,
   "metadata": {},
   "outputs": [
    {
     "name": "stdout",
     "output_type": "stream",
     "text": [
      "=== SAX Parser Results ===\n",
      "Ontology: Molecular_function\n",
      "  Term with most is_a: biotin binding\n",
      "  is_a count: 8\n",
      "\n",
      "Ontology: Biological_process\n",
      "  Term with most is_a: biotin catabolic process\n",
      "  is_a count: 10\n",
      "\n",
      "Ontology: Cellular_component\n",
      "  Term with most is_a: high-affinity iron permease complex\n",
      "  is_a count: 5\n",
      "\n",
      "SAX parsing time: 1.7086 seconds\n",
      "\n"
     ]
    }
   ],
   "source": [
    "import xml.sax\n",
    "from datetime import datetime\n",
    "from collections import defaultdict\n",
    "\n",
    "class GOHandler(xml.sax.ContentHandler):\n",
    "    def __init__(self):\n",
    "        self.reset_state()\n",
    "        self.max_info = defaultdict(lambda: {'term_name': '', 'is_a_count': 0})\n",
    "    \n",
    "    def reset_state(self):\n",
    "        self.current_term = {\n",
    "            'namespace': '',\n",
    "            'name': '',\n",
    "            'is_a': 0\n",
    "        }\n",
    "        self.in_name = False\n",
    "        self.in_namespace = True  # Initial state assumption (adjust based on XML)\n",
    "        self.temp_data = \"\"\n",
    "    \n",
    "    def startElement(self, tag, attrs):\n",
    "        if tag == 'term':\n",
    "            self.reset_state()\n",
    "        elif tag == 'name':\n",
    "            self.in_name = True\n",
    "            self.temp_data = \"\"\n",
    "        elif tag == 'namespace':\n",
    "            self.in_namespace = True\n",
    "            self.temp_data = \"\"\n",
    "        elif tag == 'is_a':  # Count all <is_a> tags regardless of nesting\n",
    "            self.current_term['is_a'] += 1\n",
    "    \n",
    "    def characters(self, content):\n",
    "        if self.in_name or self.in_namespace:\n",
    "            self.temp_data += content.strip()\n",
    "    \n",
    "    def endElement(self, tag):\n",
    "        if tag == 'name':\n",
    "            self.current_term['name'] = self.temp_data\n",
    "            self.in_name = False\n",
    "        elif tag == 'namespace':\n",
    "            self.current_term['namespace'] = self.temp_data\n",
    "            self.in_namespace = False\n",
    "        elif tag == 'term':\n",
    "            ns = self.current_term['namespace']\n",
    "            target_ontologies = ['molecular_function', 'biological_process', 'cellular_component']\n",
    "            if ns in target_ontologies:\n",
    "                if self.current_term['is_a'] > self.max_info[ns]['is_a_count']:\n",
    "                    self.max_info[ns] = {\n",
    "                        'term_name': self.current_term['name'],\n",
    "                        'is_a_count': self.current_term['is_a']\n",
    "                    }\n",
    "\n",
    "start_time = datetime.now()\n",
    "handler = GOHandler()\n",
    "parser = xml.sax.make_parser()\n",
    "parser.setContentHandler(handler)\n",
    "parser.parse(\"D:\\\\浙大海宁学习大一\\\\IBI1\\\\IBI1_2024-25\\\\IBI1_2024-25\\\\Practical14\\\\go_obo.xml\")  # Replace with actual file path\n",
    "sax_elapsed = (datetime.now() - start_time).total_seconds()\n",
    "\n",
    "print(\"=== SAX Parser Results ===\")\n",
    "for ns in ['molecular_function', 'biological_process', 'cellular_component']:\n",
    "    data = handler.max_info[ns]\n",
    "    print(f\"Ontology: {ns.capitalize()}\")\n",
    "    print(f\"  Term with most is_a: {data['term_name']}\")\n",
    "    print(f\"  is_a count: {data['is_a_count']}\\n\")\n",
    "print(f\"SAX parsing time: {sax_elapsed:.4f} seconds\\n\")\n",
    "\n",
    "# Comment: Uncomment to compare speeds after running\n",
    "# if dom_elapsed < sax_elapsed:\n",
    "#     print(\"# DOM was faster\")\n",
    "# else:\n",
    "#     print(\"# SAX was faster\")"
   ]
  }
 ],
 "metadata": {
  "kernelspec": {
   "display_name": "Python 3",
   "language": "python",
   "name": "python3"
  },
  "language_info": {
   "codemirror_mode": {
    "name": "ipython",
    "version": 3
   },
   "file_extension": ".py",
   "mimetype": "text/x-python",
   "name": "python",
   "nbconvert_exporter": "python",
   "pygments_lexer": "ipython3",
   "version": "3.11.9"
  }
 },
 "nbformat": 4,
 "nbformat_minor": 2
}
