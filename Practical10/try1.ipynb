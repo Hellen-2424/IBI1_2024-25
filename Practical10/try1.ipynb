{
 "cells": [
  {
   "cell_type": "code",
   "execution_count": 4,
   "metadata": {},
   "outputs": [
    {
     "name": "stdout",
     "output_type": "stream",
     "text": [
      "<class 'pandas.core.frame.DataFrame'>\n",
      "RangeIndex: 6840 entries, 0 to 6839\n",
      "Data columns (total 4 columns):\n",
      " #   Column  Non-Null Count  Dtype  \n",
      "---  ------  --------------  -----  \n",
      " 0   Entity  6840 non-null   object \n",
      " 1   Code    6150 non-null   object \n",
      " 2   Year    6840 non-null   int64  \n",
      " 3   DALYs   6840 non-null   float64\n",
      "dtypes: float64(1), int64(1), object(2)\n",
      "memory usage: 213.9+ KB\n",
      "Entity    Afghanistan\n",
      "Code              AFG\n",
      "Name: 2, dtype: object\n",
      "0    1990\n",
      "1    1991\n",
      "2    1992\n",
      "3    1993\n",
      "4    1994\n",
      "5    1995\n",
      "6    1996\n",
      "7    1997\n",
      "8    1998\n",
      "9    1999\n",
      "Name: Year, dtype: int64\n",
      "0       86375.17\n",
      "30      81293.92\n",
      "60      32964.61\n",
      "90      44481.53\n",
      "120     35230.49\n",
      "          ...   \n",
      "6690    61774.10\n",
      "6720    41087.86\n",
      "6750    67015.90\n",
      "6780    90310.81\n",
      "6810    55804.06\n",
      "Name: DALYs, Length: 228, dtype: float64\n"
     ]
    }
   ],
   "source": [
    "import os\n",
    "import pandas as pd\n",
    "import matplotlib.pyplot as plt\n",
    "import numpy as np\n",
    "os.chdir(\"D:/浙大海宁学习大一/IBI1/IBI1_2024-25/IBI1_2024-25/Practical10\")# change the working directory\n",
    "df=pd.read_csv(\"dalys-rate-from-all-causes.csv\")\n",
    "\n",
    "#task 4\n",
    "df.info()#print out the basic information of df\n",
    "#print(df.head(5))#when in 静默模式\n",
    "#print(df.describe())\n",
    "print(df.iloc[2,0:2])\n",
    "#print(df.iloc[0:2,:])\n",
    "#print(df.iloc[0:10:2,0:5])\n",
    "print(df[\"Year\"].head(10))\n",
    "print(df.loc[df.Year==1990,\"DALYs\"])"
   ]
  },
  {
   "cell_type": "code",
   "execution_count": 1,
   "metadata": {},
   "outputs": [
    {
     "name": "stdout",
     "output_type": "stream",
     "text": [
      "DALYS of France: 21474.627000000004\n",
      "DALYS of UK: 23058.609\n",
      "the mean DALYs in the UK was greater than France\n"
     ]
    }
   ],
   "source": [
    "import os\n",
    "import pandas as pd\n",
    "import matplotlib.pyplot as plt\n",
    "import numpy as np\n",
    "os.chdir(\"D:/浙大海宁学习大一/IBI1/IBI1_2024-25/IBI1_2024-25/Practical10\")# change the working directory\n",
    "df=pd.read_csv(\"dalys-rate-from-all-causes.csv\")\n",
    "\n",
    "#task 5_1\n",
    "F=df[df[\"Entity\"]==\"France\"][\"DALYs\"].mean()\n",
    "U=df[df[\"Entity\"]==\"England\"][\"DALYs\"].mean()\n",
    "print(\"DALYS of France: \"+str(F))\n",
    "print(\"DALYS of UK: \"+str(U))\n",
    "if F==U:\n",
    "    print(\"the mean DALYs in the UK was equal to France\")\n",
    "elif F<U:\n",
    "    print(\"the mean DALYs in the UK was greater than France\")\n",
    "else:\n",
    "    print(\"the mean DALYs in the UK was smaller than France\")"
   ]
  },
  {
   "cell_type": "code",
   "execution_count": null,
   "metadata": {},
   "outputs": [],
   "source": []
  }
 ],
 "metadata": {
  "kernelspec": {
   "display_name": "Python 3",
   "language": "python",
   "name": "python3"
  },
  "language_info": {
   "codemirror_mode": {
    "name": "ipython",
    "version": 3
   },
   "file_extension": ".py",
   "mimetype": "text/x-python",
   "name": "python",
   "nbconvert_exporter": "python",
   "pygments_lexer": "ipython3",
   "version": "3.11.9"
  }
 },
 "nbformat": 4,
 "nbformat_minor": 2
}
